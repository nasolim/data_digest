{
 "cells": [
  {
   "cell_type": "markdown",
   "metadata": {},
   "source": [
    "The goal for this notebook is to learn the in's and out's of using pandas, selecting and manipulating specific data, and visualizing the data. This should all culminate in descriptive analysis of the Chicago City Salaries Data. "
   ]
  },
  {
   "cell_type": "code",
   "execution_count": 116,
   "metadata": {
    "collapsed": false
   },
   "outputs": [
    {
     "data": {
      "text/plain": [
       "u'0.17.1'"
      ]
     },
     "execution_count": 116,
     "metadata": {},
     "output_type": "execute_result"
    }
   ],
   "source": [
    "%matplotlib inline\n",
    "import pandas as pd\n",
    "import numpy as np\n",
    "pd.__version__\n",
    "#  API Reference: http://pandas.pydata.org/pandas-docs/stable/api.html"
   ]
  },
  {
   "cell_type": "code",
   "execution_count": 117,
   "metadata": {
    "collapsed": false
   },
   "outputs": [
    {
     "data": {
      "text/html": [
       "<div>\n",
       "<table border=\"1\" class=\"dataframe\">\n",
       "  <thead>\n",
       "    <tr style=\"text-align: right;\">\n",
       "      <th></th>\n",
       "      <th>Name</th>\n",
       "      <th>Position Title</th>\n",
       "      <th>Department</th>\n",
       "      <th>Salary</th>\n",
       "    </tr>\n",
       "  </thead>\n",
       "  <tbody>\n",
       "    <tr>\n",
       "      <th>0</th>\n",
       "      <td>AARON,  ELVIA J</td>\n",
       "      <td>WATER RATE TAKER</td>\n",
       "      <td>WATER MGMNT</td>\n",
       "      <td>$88968.00</td>\n",
       "    </tr>\n",
       "    <tr>\n",
       "      <th>1</th>\n",
       "      <td>AARON,  JEFFERY M</td>\n",
       "      <td>POLICE OFFICER</td>\n",
       "      <td>POLICE</td>\n",
       "      <td>$80778.00</td>\n",
       "    </tr>\n",
       "    <tr>\n",
       "      <th>2</th>\n",
       "      <td>AARON,  KARINA</td>\n",
       "      <td>POLICE OFFICER</td>\n",
       "      <td>POLICE</td>\n",
       "      <td>$80778.00</td>\n",
       "    </tr>\n",
       "    <tr>\n",
       "      <th>3</th>\n",
       "      <td>AARON,  KIMBERLEI R</td>\n",
       "      <td>CHIEF CONTRACT EXPEDITER</td>\n",
       "      <td>GENERAL SERVICES</td>\n",
       "      <td>$84780.00</td>\n",
       "    </tr>\n",
       "    <tr>\n",
       "      <th>4</th>\n",
       "      <td>ABAD JR,  VICENTE M</td>\n",
       "      <td>CIVIL ENGINEER IV</td>\n",
       "      <td>WATER MGMNT</td>\n",
       "      <td>$104736.00</td>\n",
       "    </tr>\n",
       "  </tbody>\n",
       "</table>\n",
       "</div>"
      ],
      "text/plain": [
       "                  Name            Position Title        Department      Salary\n",
       "0      AARON,  ELVIA J          WATER RATE TAKER       WATER MGMNT   $88968.00\n",
       "1    AARON,  JEFFERY M            POLICE OFFICER            POLICE   $80778.00\n",
       "2       AARON,  KARINA            POLICE OFFICER            POLICE   $80778.00\n",
       "3  AARON,  KIMBERLEI R  CHIEF CONTRACT EXPEDITER  GENERAL SERVICES   $84780.00\n",
       "4  ABAD JR,  VICENTE M         CIVIL ENGINEER IV       WATER MGMNT  $104736.00"
      ]
     },
     "execution_count": 117,
     "metadata": {},
     "output_type": "execute_result"
    }
   ],
   "source": [
    "salaries = pd.read_csv('chicago-salaries.csv')\n",
    "salaries.head()"
   ]
  },
  {
   "cell_type": "code",
   "execution_count": 118,
   "metadata": {
    "collapsed": false
   },
   "outputs": [
    {
     "data": {
      "text/plain": [
       "Index([u'name', u'position_title', u'department', u'salary'], dtype='object')"
      ]
     },
     "execution_count": 118,
     "metadata": {},
     "output_type": "execute_result"
    }
   ],
   "source": [
    "salaries.columns = ['name','position_title','department','salary']\n",
    "salaries.columns"
   ]
  },
  {
   "cell_type": "code",
   "execution_count": 119,
   "metadata": {
    "collapsed": false
   },
   "outputs": [
    {
     "data": {
      "text/html": [
       "<div>\n",
       "<table border=\"1\" class=\"dataframe\">\n",
       "  <thead>\n",
       "    <tr style=\"text-align: right;\">\n",
       "      <th></th>\n",
       "      <th>name</th>\n",
       "      <th>position_title</th>\n",
       "      <th>department</th>\n",
       "      <th>salary</th>\n",
       "    </tr>\n",
       "  </thead>\n",
       "  <tbody>\n",
       "    <tr>\n",
       "      <th>count</th>\n",
       "      <td>32181</td>\n",
       "      <td>32181</td>\n",
       "      <td>32181</td>\n",
       "      <td>32181</td>\n",
       "    </tr>\n",
       "    <tr>\n",
       "      <th>unique</th>\n",
       "      <td>31893</td>\n",
       "      <td>1094</td>\n",
       "      <td>35</td>\n",
       "      <td>1148</td>\n",
       "    </tr>\n",
       "    <tr>\n",
       "      <th>top</th>\n",
       "      <td>PEREZ,  JOSE A</td>\n",
       "      <td>POLICE OFFICER</td>\n",
       "      <td>POLICE</td>\n",
       "      <td>$86520.00</td>\n",
       "    </tr>\n",
       "    <tr>\n",
       "      <th>freq</th>\n",
       "      <td>4</td>\n",
       "      <td>9489</td>\n",
       "      <td>13570</td>\n",
       "      <td>2493</td>\n",
       "    </tr>\n",
       "  </tbody>\n",
       "</table>\n",
       "</div>"
      ],
      "text/plain": [
       "                  name  position_title department     salary\n",
       "count            32181           32181      32181      32181\n",
       "unique           31893            1094         35       1148\n",
       "top     PEREZ,  JOSE A  POLICE OFFICER     POLICE  $86520.00\n",
       "freq                 4            9489      13570       2493"
      ]
     },
     "execution_count": 119,
     "metadata": {},
     "output_type": "execute_result"
    }
   ],
   "source": [
    "salaries.describe()"
   ]
  },
  {
   "cell_type": "code",
   "execution_count": 120,
   "metadata": {
    "collapsed": false
   },
   "outputs": [
    {
     "name": "stdout",
     "output_type": "stream",
     "text": [
      "<class 'pandas.core.frame.DataFrame'>\n",
      "Int64Index: 32181 entries, 0 to 32180\n",
      "Data columns (total 4 columns):\n",
      "name              32181 non-null object\n",
      "position_title    32181 non-null object\n",
      "department        32181 non-null object\n",
      "salary            32181 non-null object\n",
      "dtypes: object(4)\n",
      "memory usage: 1.2+ MB\n"
     ]
    }
   ],
   "source": [
    "# index = df['b'].index[df['b'].apply(np.isnan)]\n",
    "# salaries['salary'].index[salaries['salary'].apply(np.isnan)]\n",
    "salaries.info()\n",
    "# Histogram plotting and isnan aren't working because salary is considered a text object and not an int or float\n",
    "# I need to convert salaries to float. "
   ]
  },
  {
   "cell_type": "code",
   "execution_count": 121,
   "metadata": {
    "collapsed": false
   },
   "outputs": [],
   "source": [
    "# df[['col2','col3']] = df[['col2','col3']].apply(pd.to_numeric)\n",
    "# can be read as apply this function (pd.to_numeric) to these columns\n",
    "salaries['salary'].replace(to_replace=\"$\",value=\"\",inplace=True)\n",
    "# Above attempt is searching for value that equal $, not elements within the value\n",
    "# df['col1'].apply(function - by default on a row by row basis)\n",
    "# Below - This will allow me to replace parts of text for datum \n",
    "salaries['salary'] = salaries['salary'].apply((lambda x: float(x.replace('$',''))))"
   ]
  },
  {
   "cell_type": "code",
   "execution_count": 122,
   "metadata": {
    "collapsed": false
   },
   "outputs": [
    {
     "data": {
      "text/plain": [
       "Int64Index([], dtype='int64')"
      ]
     },
     "execution_count": 122,
     "metadata": {},
     "output_type": "execute_result"
    }
   ],
   "source": [
    "salaries['salary'].index[salaries['salary'].apply(np.isnan)]"
   ]
  },
  {
   "cell_type": "code",
   "execution_count": 123,
   "metadata": {
    "collapsed": false
   },
   "outputs": [
    {
     "data": {
      "text/plain": [
       "array([[<matplotlib.axes._subplots.AxesSubplot object at 0x126b68890>]], dtype=object)"
      ]
     },
     "execution_count": 123,
     "metadata": {},
     "output_type": "execute_result"
    },
    {
     "data": {
      "image/png": "[encoded data removed]",
      "text/plain": [
       "<matplotlib.figure.Figure at 0x126f660d0>"
      ]
     },
     "metadata": {},
     "output_type": "display_data"
    }
   ],
   "source": [
    "salaries.hist(column = 'salary', bins = 60)"
   ]
  },
  {
   "cell_type": "code",
   "execution_count": 124,
   "metadata": {
    "collapsed": false
   },
   "outputs": [
    {
     "data": {
      "text/plain": [
       "array([[<matplotlib.axes._subplots.AxesSubplot object at 0x126f5f850>,\n",
       "        <matplotlib.axes._subplots.AxesSubplot object at 0x127ccbd50>,\n",
       "        <matplotlib.axes._subplots.AxesSubplot object at 0x127f84390>,\n",
       "        <matplotlib.axes._subplots.AxesSubplot object at 0x127fe62d0>,\n",
       "        <matplotlib.axes._subplots.AxesSubplot object at 0x128168750>,\n",
       "        <matplotlib.axes._subplots.AxesSubplot object at 0x1281b4fd0>],\n",
       "       [<matplotlib.axes._subplots.AxesSubplot object at 0x12824d490>,\n",
       "        <matplotlib.axes._subplots.AxesSubplot object at 0x1282d1310>,\n",
       "        <matplotlib.axes._subplots.AxesSubplot object at 0x128330f90>,\n",
       "        <matplotlib.axes._subplots.AxesSubplot object at 0x1283be350>,\n",
       "        <matplotlib.axes._subplots.AxesSubplot object at 0x128425050>,\n",
       "        <matplotlib.axes._subplots.AxesSubplot object at 0x1284a54d0>],\n",
       "       [<matplotlib.axes._subplots.AxesSubplot object at 0x12844f1d0>,\n",
       "        <matplotlib.axes._subplots.AxesSubplot object at 0x128587fd0>,\n",
       "        <matplotlib.axes._subplots.AxesSubplot object at 0x129018390>,\n",
       "        <matplotlib.axes._subplots.AxesSubplot object at 0x12907a910>,\n",
       "        <matplotlib.axes._subplots.AxesSubplot object at 0x1290fb890>,\n",
       "        <matplotlib.axes._subplots.AxesSubplot object at 0x129161550>],\n",
       "       [<matplotlib.axes._subplots.AxesSubplot object at 0x1291e09d0>,\n",
       "        <matplotlib.axes._subplots.AxesSubplot object at 0x129264850>,\n",
       "        <matplotlib.axes._subplots.AxesSubplot object at 0x1292d2510>,\n",
       "        <matplotlib.axes._subplots.AxesSubplot object at 0x129352890>,\n",
       "        <matplotlib.axes._subplots.AxesSubplot object at 0x12689fad0>,\n",
       "        <matplotlib.axes._subplots.AxesSubplot object at 0x1293d0650>],\n",
       "       [<matplotlib.axes._subplots.AxesSubplot object at 0x1294534d0>,\n",
       "        <matplotlib.axes._subplots.AxesSubplot object at 0x1294c0610>,\n",
       "        <matplotlib.axes._subplots.AxesSubplot object at 0x129544490>,\n",
       "        <matplotlib.axes._subplots.AxesSubplot object at 0x1295a73d0>,\n",
       "        <matplotlib.axes._subplots.AxesSubplot object at 0x12962b250>,\n",
       "        <matplotlib.axes._subplots.AxesSubplot object at 0x129687f10>],\n",
       "       [<matplotlib.axes._subplots.AxesSubplot object at 0x12a11e050>,\n",
       "        <matplotlib.axes._subplots.AxesSubplot object at 0x12a191e90>,\n",
       "        <matplotlib.axes._subplots.AxesSubplot object at 0x12a204910>,\n",
       "        <matplotlib.axes._subplots.AxesSubplot object at 0x12a286790>,\n",
       "        <matplotlib.axes._subplots.AxesSubplot object at 0x12a2eb7d0>,\n",
       "        <matplotlib.axes._subplots.AxesSubplot object at 0x12a46d750>]], dtype=object)"
      ]
     },
     "execution_count": 124,
     "metadata": {},
     "output_type": "execute_result"
    },
    {
     "data": {
      "image/png": "[encoded data removed]",
      "text/plain": [
       "<matplotlib.figure.Figure at 0x127a98bd0>"
      ]
     },
     "metadata": {},
     "output_type": "display_data"
    }
   ],
   "source": [
    "salaries.hist(column = 'salary', by = 'department', bins = 10,figsize = (15,20))\n",
    "# figsize determines the size of the figure - as a whole - in inch; (width, height) "
   ]
  },
  {
   "cell_type": "code",
   "execution_count": 125,
   "metadata": {
    "collapsed": false
   },
   "outputs": [
    {
     "data": {
      "text/plain": [
       "<matplotlib.axes._subplots.AxesSubplot at 0x127921a90>"
      ]
     },
     "execution_count": 125,
     "metadata": {},
     "output_type": "execute_result"
    },
    {
     "data": {
      "image/png": "[encoded data removed]",
      "text/plain": [
       "<matplotlib.figure.Figure at 0x127912c90>"
      ]
     },
     "metadata": {},
     "output_type": "display_data"
    }
   ],
   "source": [
    "departments = salaries.groupby('department')\n",
    "departments.position_title.count().plot(kind='barh',figsize=(10,10))"
   ]
  },
  {
   "cell_type": "code",
   "execution_count": 126,
   "metadata": {
    "collapsed": false
   },
   "outputs": [
    {
     "data": {
      "text/plain": [
       "(name              9489\n",
       " position_title    9489\n",
       " department        9489\n",
       " salary            9489\n",
       " dtype: int64, name              13570\n",
       " position_title    13570\n",
       " department        13570\n",
       " salary            13570\n",
       " dtype: int64)"
      ]
     },
     "execution_count": 126,
     "metadata": {},
     "output_type": "execute_result"
    }
   ],
   "source": [
    "salaries[salaries.position_title == 'POLICE OFFICER'].count(),salaries[salaries.department == 'POLICE'].count()\n",
    "# departments.salary.sum().plot.pie(subplots = True, figsize=(10,10), )"
   ]
  },
  {
   "cell_type": "code",
   "execution_count": 127,
   "metadata": {
    "collapsed": false
   },
   "outputs": [
    {
     "data": {
      "text/plain": [
       "129"
      ]
     },
     "execution_count": 127,
     "metadata": {},
     "output_type": "execute_result"
    }
   ],
   "source": [
    "#  To find a list of unique values - http://chrisalbon.com/python/pandas_list_unique_values_in_column.html\n",
    "salaries.position_title[salaries.department == 'POLICE'].nunique()\n",
    "# Unique number of titles within the Police Department"
   ]
  },
  {
   "cell_type": "code",
   "execution_count": 128,
   "metadata": {
    "collapsed": false
   },
   "outputs": [
    {
     "data": {
      "text/html": [
       "<div>\n",
       "<table border=\"1\" class=\"dataframe\">\n",
       "  <thead>\n",
       "    <tr style=\"text-align: right;\">\n",
       "      <th></th>\n",
       "      <th>name</th>\n",
       "      <th>position_title</th>\n",
       "      <th>department</th>\n",
       "      <th>salary</th>\n",
       "    </tr>\n",
       "  </thead>\n",
       "  <tbody>\n",
       "  </tbody>\n",
       "</table>\n",
       "</div>"
      ],
      "text/plain": [
       "Empty DataFrame\n",
       "Columns: [name, position_title, department, salary]\n",
       "Index: []"
      ]
     },
     "execution_count": 128,
     "metadata": {},
     "output_type": "execute_result"
    }
   ],
   "source": [
    "# searching for a record where POLCE OFFCER is part of the title, but not the full title\n",
    "salaries[salaries.position_title == 'POLCE OFFCER (ASSGNED AS DETECTVE)']"
   ]
  },
  {
   "cell_type": "code",
   "execution_count": 129,
   "metadata": {
    "collapsed": false
   },
   "outputs": [
    {
     "data": {
      "text/plain": [
       "-1"
      ]
     },
     "execution_count": 129,
     "metadata": {},
     "output_type": "execute_result"
    }
   ],
   "source": [
    "# double checking that .find() works as I expect\n",
    "salaries['position_title'].iloc[74].find('POLCE OFFCER')"
   ]
  },
  {
   "cell_type": "code",
   "execution_count": 130,
   "metadata": {
    "collapsed": false
   },
   "outputs": [],
   "source": [
    "# salaries.position_title[(salaries.department == 'POLICE')].unique()\n",
    "########### \n",
    "###########\n",
    "###########\n",
    "# I've stopped here!!!! I'm trying to figure out how to  change all the Polce Offcer ** to just Polce offcer\n",
    "###########\n",
    "###########\n",
    "###########\n",
    "# simple_titles['simple_title'] = simple_titles['position_title'].map(lambda x: 'CHUCK OFFICER' if x.find('POLICE OFFICER') > 0 else x)\n",
    "# salaries.position_title.str.contains('POLICE OFFICER')\n",
    "#  Attach the code above to an index list, create a new column (or series) can have it store simplified position names.\n",
    "#  Use this simple list to determine who is part of the police department, but not an officer and plot their salaries."
   ]
  },
  {
   "cell_type": "code",
   "execution_count": 131,
   "metadata": {
    "collapsed": false
   },
   "outputs": [],
   "source": [
    "salaries['position_title'] = salaries['position_title'].apply((lambda x: x.replace('I','')))\n",
    "salaries['position_title'] = salaries['position_title'].apply((lambda x: x.replace('II','')))\n",
    "salaries['position_title'] = salaries['position_title'].apply((lambda x: x.replace('III','')))"
   ]
  },
  {
   "cell_type": "code",
   "execution_count": 132,
   "metadata": {
    "collapsed": false
   },
   "outputs": [
    {
     "data": {
      "text/plain": [
       "array(['POLCE OFFCER', 'CLERK ', 'CROSSNG GUARD',\n",
       "       'POLCE OFFCER (ASSGNED AS EVDENCE TECHNCAN)',\n",
       "       'POLCE OFFCER (ASSGNED AS DETECTVE)', 'CLNCAL THERAPST ',\n",
       "       'PROPERTY CUSTODAN', 'CROSSNG GUARD - PER AGREEMENT', 'LEUTENANT',\n",
       "       'SERGEANT', 'CRMNAL HSTORY ANALYST', 'PERSONAL COMPUTER OPERATOR ',\n",
       "       'POLCE OFFCER/EXPLSV DETECT K9 HNDLR',\n",
       "       'POLCE OFFCER / FLD TRNG OFFCER', 'POLCE TECHNCAN', 'DEPUTY CHEF',\n",
       "       'DETENTON ADE', 'CAPTAN', 'MANAGER OF POLCE PAYROLLS',\n",
       "       'POLCE CADET', 'CLERK V', 'EXPLOSVES TECHNCAN ', 'POLCE AGENT',\n",
       "       'POLCE OFFCER (ASGND AS MARNE OFFCER)', 'PERSONNEL ASSSTANT',\n",
       "       'DR OF FACLTES MANAGEMENT',\n",
       "       'POLCE OFFCER (ASGND AS MOUNTED PATROL OFFCER)',\n",
       "       'POLCE OFFCER (ASSGNED AS CANNE HANDLER)', 'COMMANDER',\n",
       "       'NFORMATON SERVCES COORD', 'TMEKEEPER - CPD', 'PROGRAM ANALYST',\n",
       "       'COMMUNTY ORGANZER-CAPS', 'ADMNSTRATVE ASST ', 'STAFF ASST',\n",
       "       'SENOR DATA ENTRY OPERATOR', 'DATA ENTRY OPERATOR',\n",
       "       'TECHNCAL TRANNG SPECALST', 'ADMNSTRATVE SERVCES OFFCER ',\n",
       "       'ASST GENERAL COUNSEL', 'POLCE OFFCER (PER ARBTRATON AWARD)',\n",
       "       'FSCAL ADMNSTRATOR', 'FNGERPRNT TECHNCAN ',\n",
       "       'POLCE OFFCER (ASSGNED AS TRAFFC SPECALST)',\n",
       "       'POLCE FORENSC NVESTGATOR ', 'PROJECTS ADMNSTRATOR',\n",
       "       'AREA COORD - CAPS', 'CONTRACTS COORD', 'POLCE LEGAL OFFCER ',\n",
       "       'POLCY ANALYST', 'CHEF VOUCHER EXPEDTER', 'SENOR RESEARCH ANALYST',\n",
       "       'PARALEGAL ', 'PROGRAM ADE',\n",
       "       'POLCE OFFCER(ASGND AS LATENT PRNT EX)', 'ADMNSTRATVE MANAGER',\n",
       "       'POLCE OFFCER (ASSGNED AS SECURTY SPECALST)', 'TRANNG OFFCER',\n",
       "       'LABORATORY TECHNCAN ', 'CAPS COORDNATOR',\n",
       "       'DR OF RESEARCH AND PLANNNG', 'ACCOUNTANT ',\n",
       "       'ADMN SERVCES OFFCER -EXCLUDED', 'COORD OF SPECAL PROJECTS', 'CHEF',\n",
       "       'DEPUTY DR', 'GRAPHC ARTST ', 'SENOR PHOTOGRAPHC TECHNCAN',\n",
       "       'MANAGER OF POLCE PERSONNEL', 'NVESTGATOR',\n",
       "       'SUPVSR OF DATA ENTRY OPERATORS', 'MANAGER OF DATA ENTRY OPERATORS',\n",
       "       'ACCOUNTNG TECHNCAN ', 'CROSSNG GUARD COORD',\n",
       "       'CHEF OPERATONS ANALYST', 'SENOR PROGRAMMER/ANALYST', 'ASST DR',\n",
       "       'DR OF CAPS', 'CONTRACTS REVEW SPECALST ', 'ATTORNEY',\n",
       "       'WARRANT AND EXTRADTON ADE', 'ASSSTANT DRECTOR OF FNANCE',\n",
       "       'DR OF ADMNSTRATON ', 'SUBPOENA OFFCER', 'PERSONAL ASSSTANT',\n",
       "       'PRNCPAL DATA BASE ANALYST', 'CRMNALST ', 'DR OF NEWS AFFARS',\n",
       "       'ASST TO THE EXEC DR', 'GRANTS RESEARCH SPECALST',\n",
       "       'SUPERNTENDENT OF POLCE', 'FNGERPRNT TECHNCAN V',\n",
       "       'PUBLC NFORMATON OFFCER', 'OCCUPATONAL HEALTH NURSE',\n",
       "       'ADMNSTRATVE ASST  - EXCLUDED', 'DOMESTC VOLENCE ADVOCATE',\n",
       "       'TRANNG TECHNCAN ', 'DR OF HUMAN RESOURCES',\n",
       "       'SUPERVSOR OF EMPLOYEE REFERRAL SERVCES', 'PROGRAMMER/ANALYST',\n",
       "       'DR OF POLCE RECORDS', 'ASST SUPVSR OF POLCE RECORDS',\n",
       "       'GENERAL COUNSEL', 'EMPLOYEE COMPENSATON TECHNCAN ',\n",
       "       'PROGRAM DEVELOPMENT COORD', 'ASST DR OF NEWS AFFARS',\n",
       "       \"SUPERNTENDENT'S CHEF OF STAFF\", 'DR OF GRANTS MANAGEMENT',\n",
       "       'POLCE OFFCER(ASGND AS SUPVG LATENT PRNT EX)', 'TRANNG DRECTOR',\n",
       "       'SR LABOR RELATONS SPECALST', 'FORENSC FREARM/EVDENCE DENT TECH',\n",
       "       'YOUTH SERVCES COORD', 'ASST TO THE COMMSSONER', 'AUDTOR ',\n",
       "       'SUPVSR OF NVENTORY CONTROL ', 'ASST MANAGER OF POLCE PAYROLLS',\n",
       "       'SUPERVSNG PROPERTY CUSTODAN', 'DRECTOR OF FNANCE',\n",
       "       'FRST DEPUTY SUPERNTENDENT'], dtype=object)"
      ]
     },
     "execution_count": 132,
     "metadata": {},
     "output_type": "execute_result"
    }
   ],
   "source": [
    "#  So let create a bar plot to determine the distribution of employees within the police department by their job title\n",
    "police_dept = salaries[['position_title','department']][salaries.department == 'POLICE'].groupby(['department','position_title'])\n",
    "# police_dept.head()[:10]\n",
    "salaries.position_title[salaries.department == 'POLICE'].unique()"
   ]
  },
  {
   "cell_type": "code",
   "execution_count": 133,
   "metadata": {
    "collapsed": false
   },
   "outputs": [
    {
     "ename": "NotImplementedError",
     "evalue": "Not implemented: <pandas.core.groupby.SeriesGroupBy object at 0x12dd890d0>",
     "output_type": "error",
     "traceback": [
      "\u001b[0;31m---------------------------------------------------------------------------\u001b[0m",
      "\u001b[0;31mNotImplementedError\u001b[0m                       Traceback (most recent call last)",
      "\u001b[0;32m<ipython-input-133-8becb154e85e>\u001b[0m in \u001b[0;36m<module>\u001b[0;34m()\u001b[0m\n\u001b[0;32m----> 1\u001b[0;31m \u001b[0mpolice_dept\u001b[0m\u001b[0;34m[\u001b[0m\u001b[0;34m'position_title'\u001b[0m\u001b[0;34m]\u001b[0m\u001b[0;34m[\u001b[0m\u001b[0mpolice_dept\u001b[0m\u001b[0;34m[\u001b[0m\u001b[0;34m'position_title'\u001b[0m\u001b[0;34m]\u001b[0m\u001b[0;34m]\u001b[0m\u001b[0;34m.\u001b[0m\u001b[0mcount\u001b[0m\u001b[0;34m(\u001b[0m\u001b[0;34m)\u001b[0m\u001b[0;34m.\u001b[0m\u001b[0mplot\u001b[0m\u001b[0;34m(\u001b[0m\u001b[0mkind\u001b[0m\u001b[0;34m=\u001b[0m\u001b[0;34m'barh'\u001b[0m\u001b[0;34m,\u001b[0m\u001b[0mfigsize\u001b[0m\u001b[0;34m=\u001b[0m\u001b[0;34m(\u001b[0m\u001b[0;36m10\u001b[0m\u001b[0;34m,\u001b[0m\u001b[0;36m30\u001b[0m\u001b[0;34m)\u001b[0m\u001b[0;34m)\u001b[0m\u001b[0;34m\u001b[0m\u001b[0m\n\u001b[0m\u001b[1;32m      2\u001b[0m \u001b[0;31m# departments.position_title.count().plot(kind='barh',figsize=(10,10))\u001b[0m\u001b[0;34m\u001b[0m\u001b[0;34m\u001b[0m\u001b[0m\n",
      "\u001b[0;32m//anaconda/lib/python2.7/site-packages/pandas/core/groupby.pyc\u001b[0m in \u001b[0;36m__getitem__\u001b[0;34m(self, key)\u001b[0m\n\u001b[1;32m    560\u001b[0m \u001b[0;34m\u001b[0m\u001b[0m\n\u001b[1;32m    561\u001b[0m     \u001b[0;32mdef\u001b[0m \u001b[0m__getitem__\u001b[0m\u001b[0;34m(\u001b[0m\u001b[0mself\u001b[0m\u001b[0;34m,\u001b[0m \u001b[0mkey\u001b[0m\u001b[0;34m)\u001b[0m\u001b[0;34m:\u001b[0m\u001b[0;34m\u001b[0m\u001b[0m\n\u001b[0;32m--> 562\u001b[0;31m         \u001b[0;32mraise\u001b[0m \u001b[0mNotImplementedError\u001b[0m\u001b[0;34m(\u001b[0m\u001b[0;34m'Not implemented: %s'\u001b[0m \u001b[0;34m%\u001b[0m \u001b[0mkey\u001b[0m\u001b[0;34m)\u001b[0m\u001b[0;34m\u001b[0m\u001b[0m\n\u001b[0m\u001b[1;32m    563\u001b[0m \u001b[0;34m\u001b[0m\u001b[0m\n\u001b[1;32m    564\u001b[0m     \u001b[0mplot\u001b[0m \u001b[0;34m=\u001b[0m \u001b[0mproperty\u001b[0m\u001b[0;34m(\u001b[0m\u001b[0mGroupByPlot\u001b[0m\u001b[0;34m)\u001b[0m\u001b[0;34m\u001b[0m\u001b[0m\n",
      "\u001b[0;31mNotImplementedError\u001b[0m: Not implemented: <pandas.core.groupby.SeriesGroupBy object at 0x12dd890d0>"
     ]
    }
   ],
   "source": [
    "police_dept['position_title'][police_dept['position_title']].count().plot(kind='barh',figsize=(10,30))\n",
    "# departments.position_title.count().plot(kind='barh',figsize=(10,10))"
   ]
  },
  {
   "cell_type": "code",
   "execution_count": 134,
   "metadata": {
    "collapsed": true
   },
   "outputs": [],
   "source": [
    "# Since there are so many Police Officers in the Police department, I want to find a way to remove them form the group and \n",
    "# Plot the salary distribution of remaining employeess. "
   ]
  },
  {
   "cell_type": "raw",
   "metadata": {},
   "source": [
    "Began to get side tracked, starting over to stay focused on one question\n",
    "DO POLICE OFFICERS OR FIRE FIGHTERS GET PAID MORE???"
   ]
  },
  {
   "cell_type": "code",
   "execution_count": 135,
   "metadata": {
    "collapsed": false
   },
   "outputs": [
    {
     "data": {
      "text/html": [
       "<div>\n",
       "<table border=\"1\" class=\"dataframe\">\n",
       "  <thead>\n",
       "    <tr style=\"text-align: right;\">\n",
       "      <th></th>\n",
       "      <th>name</th>\n",
       "      <th>title</th>\n",
       "      <th>department</th>\n",
       "      <th>salary</th>\n",
       "    </tr>\n",
       "  </thead>\n",
       "  <tbody>\n",
       "    <tr>\n",
       "      <th>count</th>\n",
       "      <td>32181</td>\n",
       "      <td>32181</td>\n",
       "      <td>32181</td>\n",
       "      <td>32181</td>\n",
       "    </tr>\n",
       "    <tr>\n",
       "      <th>unique</th>\n",
       "      <td>31893</td>\n",
       "      <td>1094</td>\n",
       "      <td>35</td>\n",
       "      <td>1148</td>\n",
       "    </tr>\n",
       "    <tr>\n",
       "      <th>top</th>\n",
       "      <td>PEREZ,  JOSE A</td>\n",
       "      <td>POLICE OFFICER</td>\n",
       "      <td>POLICE</td>\n",
       "      <td>$86520.00</td>\n",
       "    </tr>\n",
       "    <tr>\n",
       "      <th>freq</th>\n",
       "      <td>4</td>\n",
       "      <td>9489</td>\n",
       "      <td>13570</td>\n",
       "      <td>2493</td>\n",
       "    </tr>\n",
       "  </tbody>\n",
       "</table>\n",
       "</div>"
      ],
      "text/plain": [
       "                  name           title department     salary\n",
       "count            32181           32181      32181      32181\n",
       "unique           31893            1094         35       1148\n",
       "top     PEREZ,  JOSE A  POLICE OFFICER     POLICE  $86520.00\n",
       "freq                 4            9489      13570       2493"
      ]
     },
     "execution_count": 135,
     "metadata": {},
     "output_type": "execute_result"
    }
   ],
   "source": [
    "original = pd.read_csv('chicago-salaries.csv')\n",
    "original.columns = ['name','title','department','salary']\n",
    "original.describe()"
   ]
  },
  {
   "cell_type": "raw",
   "metadata": {},
   "source": [
    "DATA MUNGING - Convert salary information from string to numerical"
   ]
  },
  {
   "cell_type": "code",
   "execution_count": 136,
   "metadata": {
    "collapsed": false
   },
   "outputs": [],
   "source": [
    "original['salary'] = original['salary'].apply((lambda x: float(x.replace('$',''))))"
   ]
  },
  {
   "cell_type": "code",
   "execution_count": 137,
   "metadata": {
    "collapsed": false
   },
   "outputs": [
    {
     "data": {
      "text/html": [
       "<div>\n",
       "<table border=\"1\" class=\"dataframe\">\n",
       "  <thead>\n",
       "    <tr style=\"text-align: right;\">\n",
       "      <th></th>\n",
       "      <th>name</th>\n",
       "      <th>title</th>\n",
       "      <th>department</th>\n",
       "      <th>salary</th>\n",
       "    </tr>\n",
       "  </thead>\n",
       "  <tbody>\n",
       "    <tr>\n",
       "      <th>0</th>\n",
       "      <td>AARON,  ELVIA J</td>\n",
       "      <td>WATER RATE TAKER</td>\n",
       "      <td>WATER MGMNT</td>\n",
       "      <td>88968</td>\n",
       "    </tr>\n",
       "    <tr>\n",
       "      <th>1</th>\n",
       "      <td>AARON,  JEFFERY M</td>\n",
       "      <td>POLICE OFFICER</td>\n",
       "      <td>POLICE</td>\n",
       "      <td>80778</td>\n",
       "    </tr>\n",
       "    <tr>\n",
       "      <th>2</th>\n",
       "      <td>AARON,  KARINA</td>\n",
       "      <td>POLICE OFFICER</td>\n",
       "      <td>POLICE</td>\n",
       "      <td>80778</td>\n",
       "    </tr>\n",
       "    <tr>\n",
       "      <th>3</th>\n",
       "      <td>AARON,  KIMBERLEI R</td>\n",
       "      <td>CHIEF CONTRACT EXPEDITER</td>\n",
       "      <td>GENERAL SERVICES</td>\n",
       "      <td>84780</td>\n",
       "    </tr>\n",
       "    <tr>\n",
       "      <th>4</th>\n",
       "      <td>ABAD JR,  VICENTE M</td>\n",
       "      <td>CIVIL ENGINEER IV</td>\n",
       "      <td>WATER MGMNT</td>\n",
       "      <td>104736</td>\n",
       "    </tr>\n",
       "  </tbody>\n",
       "</table>\n",
       "</div>"
      ],
      "text/plain": [
       "                  name                     title        department  salary\n",
       "0      AARON,  ELVIA J          WATER RATE TAKER       WATER MGMNT   88968\n",
       "1    AARON,  JEFFERY M            POLICE OFFICER            POLICE   80778\n",
       "2       AARON,  KARINA            POLICE OFFICER            POLICE   80778\n",
       "3  AARON,  KIMBERLEI R  CHIEF CONTRACT EXPEDITER  GENERAL SERVICES   84780\n",
       "4  ABAD JR,  VICENTE M         CIVIL ENGINEER IV       WATER MGMNT  104736"
      ]
     },
     "execution_count": 137,
     "metadata": {},
     "output_type": "execute_result"
    }
   ],
   "source": [
    "#  checking that replace was applied properly\n",
    "original.head()"
   ]
  },
  {
   "cell_type": "raw",
   "metadata": {},
   "source": [
    "Data Grouping"
   ]
  },
  {
   "cell_type": "code",
   "execution_count": 138,
   "metadata": {
    "collapsed": false
   },
   "outputs": [
    {
     "data": {
      "text/plain": [
       "array(['WATER MGMNT', 'POLICE', 'GENERAL SERVICES', 'CITY COUNCIL',\n",
       "       'STREETS & SAN', 'AVIATION', 'FIRE', 'FAMILY & SUPPORT', 'IPRA',\n",
       "       'PUBLIC LIBRARY', 'DoIT', 'BUSINESS AFFAIRS', 'OEMC', 'TRANSPORTN',\n",
       "       'HEALTH', \"MAYOR'S OFFICE\", 'LAW', 'FINANCE', 'CULTURAL AFFAIRS',\n",
       "       'COMMUNITY DEVELOPMENT', 'BUILDINGS', 'ANIMAL CONTRL', 'CITY CLERK',\n",
       "       'BOARD OF ELECTION', 'INSPECTOR GEN', 'TREASURER', 'DISABILITIES',\n",
       "       'HUMAN RESOURCES', 'PROCUREMENT', 'HUMAN RELATIONS',\n",
       "       'BOARD OF ETHICS', 'POLICE BOARD', 'BUDGET & MGMT', 'ADMIN HEARNG',\n",
       "       'LICENSE APPL COMM'], dtype=object)"
      ]
     },
     "execution_count": 138,
     "metadata": {},
     "output_type": "execute_result"
    }
   ],
   "source": [
    "# Unique department labels\n",
    "original.department.unique()"
   ]
  },
  {
   "cell_type": "code",
   "execution_count": 139,
   "metadata": {
    "collapsed": false
   },
   "outputs": [
    {
     "data": {
      "text/plain": [
       "<bound method Series.unique of 1                                          POLICE OFFICER\n",
       "2                                          POLICE OFFICER\n",
       "9                                          POLICE OFFICER\n",
       "11                                              CLERK III\n",
       "13                                         POLICE OFFICER\n",
       "14                                         POLICE OFFICER\n",
       "16                                         POLICE OFFICER\n",
       "21                                         CROSSING GUARD\n",
       "24                                         POLICE OFFICER\n",
       "31                                         POLICE OFFICER\n",
       "34                                         POLICE OFFICER\n",
       "44                                         POLICE OFFICER\n",
       "46                                         POLICE OFFICER\n",
       "48                                         POLICE OFFICER\n",
       "51       POLICE OFFICER (ASSIGNED AS EVIDENCE TECHNICIAN)\n",
       "53                                         POLICE OFFICER\n",
       "54                                         POLICE OFFICER\n",
       "58                                         POLICE OFFICER\n",
       "59                                         POLICE OFFICER\n",
       "60                                         POLICE OFFICER\n",
       "61                                         POLICE OFFICER\n",
       "63                                         POLICE OFFICER\n",
       "65                                         POLICE OFFICER\n",
       "67                                         POLICE OFFICER\n",
       "68                                         POLICE OFFICER\n",
       "69                                         POLICE OFFICER\n",
       "71                                         POLICE OFFICER\n",
       "74                 POLICE OFFICER (ASSIGNED AS DETECTIVE)\n",
       "76                                         POLICE OFFICER\n",
       "78                                         POLICE OFFICER\n",
       "                               ...                       \n",
       "32115                                            SERGEANT\n",
       "32116                                      POLICE OFFICER\n",
       "32117                                      POLICE OFFICER\n",
       "32119                                      POLICE OFFICER\n",
       "32124                                      POLICE OFFICER\n",
       "32127                                      POLICE OFFICER\n",
       "32131                                      POLICE OFFICER\n",
       "32132                                      POLICE OFFICER\n",
       "32133                                      POLICE OFFICER\n",
       "32134              POLICE OFFICER (ASSIGNED AS DETECTIVE)\n",
       "32140                                      POLICE OFFICER\n",
       "32142                                      POLICE OFFICER\n",
       "32143                                      POLICE OFFICER\n",
       "32144                                      POLICE OFFICER\n",
       "32147                                      POLICE OFFICER\n",
       "32151                                      POLICE OFFICER\n",
       "32152                                      POLICE OFFICER\n",
       "32153                                      POLICE OFFICER\n",
       "32154                                      POLICE OFFICER\n",
       "32159                                      POLICE OFFICER\n",
       "32160                                      POLICE OFFICER\n",
       "32161                                      CROSSING GUARD\n",
       "32164                                      POLICE OFFICER\n",
       "32167                                      POLICE OFFICER\n",
       "32169                                      CROSSING GUARD\n",
       "32172                                      POLICE OFFICER\n",
       "32174                                      POLICE OFFICER\n",
       "32177                                      POLICE OFFICER\n",
       "32178                                      POLICE OFFICER\n",
       "32179                                      POLICE OFFICER\n",
       "Name: title, dtype: object>"
      ]
     },
     "execution_count": 139,
     "metadata": {},
     "output_type": "execute_result"
    }
   ],
   "source": [
    "# Take a look at the differen title variations for police and fire\n",
    "original['title'][original.department == 'POLICE'].unique\n",
    "# focus on POLICE OFFICER for POLICE"
   ]
  },
  {
   "cell_type": "code",
   "execution_count": 140,
   "metadata": {
    "collapsed": false
   },
   "outputs": [
    {
     "data": {
      "text/plain": [
       "<bound method Series.unique of 8                                        FIRE ENGINEER\n",
       "15       FIREFIGHTER (PER ARBITRATORS AWARD)-PARAMEDIC\n",
       "17                               FIREFIGHTER/PARAMEDIC\n",
       "19                                     FIREFIGHTER-EMT\n",
       "20                                          LIEUTENANT\n",
       "25                                           PARAMEDIC\n",
       "35                                 AMBULANCE COMMANDER\n",
       "37                                     FIREFIGHTER-EMT\n",
       "43                                     FIREFIGHTER-EMT\n",
       "64                                         FIREFIGHTER\n",
       "66                                      LIEUTENANT-EMT\n",
       "73                                         FIREFIGHTER\n",
       "84                                     FIREFIGHTER-EMT\n",
       "85                                           PARAMEDIC\n",
       "98                                         FIREFIGHTER\n",
       "103                                      PARAMEDIC I/C\n",
       "105                                    FIREFIGHTER-EMT\n",
       "122                                    FIREFIGHTER-EMT\n",
       "135                                     LIEUTENANT-EMT\n",
       "177                                  FIRE ENGINEER-EMT\n",
       "187                FIREFIGHTER (PER ARBITRATORS AWARD)\n",
       "196                                        FIREFIGHTER\n",
       "197                                    FIREFIGHTER-EMT\n",
       "205                                      PARAMEDIC I/C\n",
       "207                                        FIREFIGHTER\n",
       "243                                  FIRE ENGINEER-EMT\n",
       "245                                        FIREFIGHTER\n",
       "247                                        FIREFIGHTER\n",
       "248                                     LIEUTENANT-EMT\n",
       "264                                        CAPTAIN-EMT\n",
       "                             ...                      \n",
       "32035                            FIREFIGHTER/PARAMEDIC\n",
       "32036                                    PARAMEDIC I/C\n",
       "32040                            FIREFIGHTER/PARAMEDIC\n",
       "32052                                FIRE ENGINEER-EMT\n",
       "32054                                   LIEUTENANT-EMT\n",
       "32055                                  FIREFIGHTER-EMT\n",
       "32068                                   LIEUTENANT-EMT\n",
       "32073                                    FIRE ENGINEER\n",
       "32081                                  FIREFIGHTER-EMT\n",
       "32083                                   LIEUTENANT-EMT\n",
       "32088                                  FIREFIGHTER-EMT\n",
       "32089                                      FIREFIGHTER\n",
       "32092                            FIREFIGHTER/PARAMEDIC\n",
       "32096                                      FIREFIGHTER\n",
       "32097                                      FIREFIGHTER\n",
       "32098                            FIREFIGHTER/PARAMEDIC\n",
       "32101                                    PARAMEDIC I/C\n",
       "32112                             LIEUTENANT-PARAMEDIC\n",
       "32118                                      FIREFIGHTER\n",
       "32120                        FIREFIGHTER-EMT (RECRUIT)\n",
       "32122                                      FIREFIGHTER\n",
       "32125                            FIREFIGHTER/PARAMEDIC\n",
       "32126                                      FIREFIGHTER\n",
       "32137                                        PARAMEDIC\n",
       "32138                                  FIREFIGHTER-EMT\n",
       "32139                                  FIREFIGHTER-EMT\n",
       "32145                                      FIREFIGHTER\n",
       "32156                                  FIREFIGHTER-EMT\n",
       "32158                                   LIEUTENANT-EMT\n",
       "32173                                  FIREFIGHTER-EMT\n",
       "Name: title, dtype: object>"
      ]
     },
     "execution_count": 140,
     "metadata": {},
     "output_type": "execute_result"
    }
   ],
   "source": [
    "original['title'][original.department == 'FIRE'].unique\n",
    "# focus on FIREFIGHTER for FIRE"
   ]
  },
  {
   "cell_type": "code",
   "execution_count": 141,
   "metadata": {
    "collapsed": false
   },
   "outputs": [],
   "source": [
    "#  creating simple_label column\n",
    "def simple_label(x):\n",
    "    if x.find('POLICE OFFICER') >= 0:\n",
    "        return 'POLICE OFFICER'\n",
    "    elif x.find('FIREFIGHTER') >= 0:\n",
    "        return 'FIREFIGTHER'\n",
    "original['simple_label'] = original['title'].map(lambda x: simple_label(x))"
   ]
  },
  {
   "cell_type": "code",
   "execution_count": 142,
   "metadata": {
    "collapsed": false
   },
   "outputs": [
    {
     "data": {
      "text/html": [
       "<div>\n",
       "<table border=\"1\" class=\"dataframe\">\n",
       "  <thead>\n",
       "    <tr style=\"text-align: right;\">\n",
       "      <th></th>\n",
       "      <th>name</th>\n",
       "      <th>title</th>\n",
       "      <th>department</th>\n",
       "      <th>salary</th>\n",
       "      <th>simple_label</th>\n",
       "    </tr>\n",
       "  </thead>\n",
       "  <tbody>\n",
       "    <tr>\n",
       "      <th>8</th>\n",
       "      <td>ABBATEMARCO,  JAMES J</td>\n",
       "      <td>FIRE ENGINEER</td>\n",
       "      <td>FIRE</td>\n",
       "      <td>90456</td>\n",
       "      <td>None</td>\n",
       "    </tr>\n",
       "    <tr>\n",
       "      <th>15</th>\n",
       "      <td>ABDELLATIF,  AREF R</td>\n",
       "      <td>FIREFIGHTER (PER ARBITRATORS AWARD)-PARAMEDIC</td>\n",
       "      <td>FIRE</td>\n",
       "      <td>98244</td>\n",
       "      <td>FIREFIGTHER</td>\n",
       "    </tr>\n",
       "    <tr>\n",
       "      <th>17</th>\n",
       "      <td>ABDOLLAHZADEH,  ALI</td>\n",
       "      <td>FIREFIGHTER/PARAMEDIC</td>\n",
       "      <td>FIRE</td>\n",
       "      <td>87720</td>\n",
       "      <td>FIREFIGTHER</td>\n",
       "    </tr>\n",
       "    <tr>\n",
       "      <th>19</th>\n",
       "      <td>ABDULLAH,  DANIEL N</td>\n",
       "      <td>FIREFIGHTER-EMT</td>\n",
       "      <td>FIRE</td>\n",
       "      <td>91764</td>\n",
       "      <td>FIREFIGTHER</td>\n",
       "    </tr>\n",
       "    <tr>\n",
       "      <th>20</th>\n",
       "      <td>ABDULLAH,  KEVIN</td>\n",
       "      <td>LIEUTENANT</td>\n",
       "      <td>FIRE</td>\n",
       "      <td>110370</td>\n",
       "      <td>None</td>\n",
       "    </tr>\n",
       "  </tbody>\n",
       "</table>\n",
       "</div>"
      ],
      "text/plain": [
       "                     name                                          title  \\\n",
       "8   ABBATEMARCO,  JAMES J                                  FIRE ENGINEER   \n",
       "15    ABDELLATIF,  AREF R  FIREFIGHTER (PER ARBITRATORS AWARD)-PARAMEDIC   \n",
       "17    ABDOLLAHZADEH,  ALI                          FIREFIGHTER/PARAMEDIC   \n",
       "19    ABDULLAH,  DANIEL N                                FIREFIGHTER-EMT   \n",
       "20       ABDULLAH,  KEVIN                                     LIEUTENANT   \n",
       "\n",
       "   department  salary simple_label  \n",
       "8        FIRE   90456         None  \n",
       "15       FIRE   98244  FIREFIGTHER  \n",
       "17       FIRE   87720  FIREFIGTHER  \n",
       "19       FIRE   91764  FIREFIGTHER  \n",
       "20       FIRE  110370         None  "
      ]
     },
     "execution_count": 142,
     "metadata": {},
     "output_type": "execute_result"
    }
   ],
   "source": [
    "# Checking that data returned as expected\n",
    "original[original.department == 'POLICE'].head()\n",
    "original[original.department == 'FIRE'].head()"
   ]
  },
  {
   "cell_type": "code",
   "execution_count": 167,
   "metadata": {
    "collapsed": false
   },
   "outputs": [],
   "source": [
    "# departments to focus POLICE and FIRE\n",
    "fire_dept = original[['title','simple_label','department','salary']][(original.department == 'FIRE') & (original.simple_label == 'FIREFIGTHER')].groupby(['department','title'])\n",
    "police_dept = original[['title','simple_label','department','salary']][(original.department == 'POLICE') & (original.simple_label == 'POLICE OFFICER')].groupby(['department','title'])"
   ]
  },
  {
   "cell_type": "code",
   "execution_count": 168,
   "metadata": {
    "collapsed": false
   },
   "outputs": [
    {
     "data": {
      "text/html": [
       "<div>\n",
       "<table border=\"1\" class=\"dataframe\">\n",
       "  <thead>\n",
       "    <tr style=\"text-align: right;\">\n",
       "      <th></th>\n",
       "      <th>title</th>\n",
       "      <th>simple_label</th>\n",
       "      <th>department</th>\n",
       "      <th>salary</th>\n",
       "    </tr>\n",
       "  </thead>\n",
       "  <tbody>\n",
       "    <tr>\n",
       "      <th>1</th>\n",
       "      <td>POLICE OFFICER</td>\n",
       "      <td>POLICE OFFICER</td>\n",
       "      <td>POLICE</td>\n",
       "      <td>80778</td>\n",
       "    </tr>\n",
       "    <tr>\n",
       "      <th>2</th>\n",
       "      <td>POLICE OFFICER</td>\n",
       "      <td>POLICE OFFICER</td>\n",
       "      <td>POLICE</td>\n",
       "      <td>80778</td>\n",
       "    </tr>\n",
       "    <tr>\n",
       "      <th>9</th>\n",
       "      <td>POLICE OFFICER</td>\n",
       "      <td>POLICE OFFICER</td>\n",
       "      <td>POLICE</td>\n",
       "      <td>86520</td>\n",
       "    </tr>\n",
       "    <tr>\n",
       "      <th>13</th>\n",
       "      <td>POLICE OFFICER</td>\n",
       "      <td>POLICE OFFICER</td>\n",
       "      <td>POLICE</td>\n",
       "      <td>69684</td>\n",
       "    </tr>\n",
       "    <tr>\n",
       "      <th>14</th>\n",
       "      <td>POLICE OFFICER</td>\n",
       "      <td>POLICE OFFICER</td>\n",
       "      <td>POLICE</td>\n",
       "      <td>80778</td>\n",
       "    </tr>\n",
       "    <tr>\n",
       "      <th>51</th>\n",
       "      <td>POLICE OFFICER (ASSIGNED AS EVIDENCE TECHNICIAN)</td>\n",
       "      <td>POLICE OFFICER</td>\n",
       "      <td>POLICE</td>\n",
       "      <td>90846</td>\n",
       "    </tr>\n",
       "    <tr>\n",
       "      <th>74</th>\n",
       "      <td>POLICE OFFICER (ASSIGNED AS DETECTIVE)</td>\n",
       "      <td>POLICE OFFICER</td>\n",
       "      <td>POLICE</td>\n",
       "      <td>93648</td>\n",
       "    </tr>\n",
       "    <tr>\n",
       "      <th>102</th>\n",
       "      <td>POLICE OFFICER (ASSIGNED AS DETECTIVE)</td>\n",
       "      <td>POLICE OFFICER</td>\n",
       "      <td>POLICE</td>\n",
       "      <td>93648</td>\n",
       "    </tr>\n",
       "    <tr>\n",
       "      <th>120</th>\n",
       "      <td>POLICE OFFICER (ASSIGNED AS DETECTIVE)</td>\n",
       "      <td>POLICE OFFICER</td>\n",
       "      <td>POLICE</td>\n",
       "      <td>97044</td>\n",
       "    </tr>\n",
       "    <tr>\n",
       "      <th>130</th>\n",
       "      <td>POLICE OFFICER (ASSIGNED AS DETECTIVE)</td>\n",
       "      <td>POLICE OFFICER</td>\n",
       "      <td>POLICE</td>\n",
       "      <td>97044</td>\n",
       "    </tr>\n",
       "    <tr>\n",
       "      <th>186</th>\n",
       "      <td>POLICE OFFICER (ASSIGNED AS DETECTIVE)</td>\n",
       "      <td>POLICE OFFICER</td>\n",
       "      <td>POLICE</td>\n",
       "      <td>99888</td>\n",
       "    </tr>\n",
       "    <tr>\n",
       "      <th>235</th>\n",
       "      <td>POLICE OFFICER (ASSIGNED AS EVIDENCE TECHNICIAN)</td>\n",
       "      <td>POLICE OFFICER</td>\n",
       "      <td>POLICE</td>\n",
       "      <td>94236</td>\n",
       "    </tr>\n",
       "    <tr>\n",
       "      <th>275</th>\n",
       "      <td>POLICE OFFICER/EXPLSV DETECT K9 HNDLR</td>\n",
       "      <td>POLICE OFFICER</td>\n",
       "      <td>POLICE</td>\n",
       "      <td>94236</td>\n",
       "    </tr>\n",
       "    <tr>\n",
       "      <th>326</th>\n",
       "      <td>POLICE OFFICER / FLD TRNG OFFICER</td>\n",
       "      <td>POLICE OFFICER</td>\n",
       "      <td>POLICE</td>\n",
       "      <td>84858</td>\n",
       "    </tr>\n",
       "    <tr>\n",
       "      <th>465</th>\n",
       "      <td>POLICE OFFICER (ASGND AS MARINE OFFICER)</td>\n",
       "      <td>POLICE OFFICER</td>\n",
       "      <td>POLICE</td>\n",
       "      <td>97044</td>\n",
       "    </tr>\n",
       "    <tr>\n",
       "      <th>488</th>\n",
       "      <td>POLICE OFFICER / FLD TRNG OFFICER</td>\n",
       "      <td>POLICE OFFICER</td>\n",
       "      <td>POLICE</td>\n",
       "      <td>94236</td>\n",
       "    </tr>\n",
       "    <tr>\n",
       "      <th>523</th>\n",
       "      <td>POLICE OFFICER (ASSIGNED AS EVIDENCE TECHNICIAN)</td>\n",
       "      <td>POLICE OFFICER</td>\n",
       "      <td>POLICE</td>\n",
       "      <td>97044</td>\n",
       "    </tr>\n",
       "    <tr>\n",
       "      <th>563</th>\n",
       "      <td>POLICE OFFICER / FLD TRNG OFFICER</td>\n",
       "      <td>POLICE OFFICER</td>\n",
       "      <td>POLICE</td>\n",
       "      <td>84858</td>\n",
       "    </tr>\n",
       "    <tr>\n",
       "      <th>669</th>\n",
       "      <td>POLICE OFFICER (ASGND AS MOUNTED PATROL OFFICER)</td>\n",
       "      <td>POLICE OFFICER</td>\n",
       "      <td>POLICE</td>\n",
       "      <td>94236</td>\n",
       "    </tr>\n",
       "    <tr>\n",
       "      <th>729</th>\n",
       "      <td>POLICE OFFICER (ASSIGNED AS CANINE HANDLER)</td>\n",
       "      <td>POLICE OFFICER</td>\n",
       "      <td>POLICE</td>\n",
       "      <td>97044</td>\n",
       "    </tr>\n",
       "    <tr>\n",
       "      <th>880</th>\n",
       "      <td>POLICE OFFICER (ASSIGNED AS EVIDENCE TECHNICIAN)</td>\n",
       "      <td>POLICE OFFICER</td>\n",
       "      <td>POLICE</td>\n",
       "      <td>94236</td>\n",
       "    </tr>\n",
       "    <tr>\n",
       "      <th>886</th>\n",
       "      <td>POLICE OFFICER/EXPLSV DETECT K9 HNDLR</td>\n",
       "      <td>POLICE OFFICER</td>\n",
       "      <td>POLICE</td>\n",
       "      <td>97044</td>\n",
       "    </tr>\n",
       "    <tr>\n",
       "      <th>1125</th>\n",
       "      <td>POLICE OFFICER / FLD TRNG OFFICER</td>\n",
       "      <td>POLICE OFFICER</td>\n",
       "      <td>POLICE</td>\n",
       "      <td>97044</td>\n",
       "    </tr>\n",
       "    <tr>\n",
       "      <th>1131</th>\n",
       "      <td>POLICE OFFICER / FLD TRNG OFFICER</td>\n",
       "      <td>POLICE OFFICER</td>\n",
       "      <td>POLICE</td>\n",
       "      <td>90846</td>\n",
       "    </tr>\n",
       "    <tr>\n",
       "      <th>1151</th>\n",
       "      <td>POLICE OFFICER (ASGND AS MOUNTED PATROL OFFICER)</td>\n",
       "      <td>POLICE OFFICER</td>\n",
       "      <td>POLICE</td>\n",
       "      <td>87780</td>\n",
       "    </tr>\n",
       "    <tr>\n",
       "      <th>1314</th>\n",
       "      <td>POLICE OFFICER (ASSIGNED AS EVIDENCE TECHNICIAN)</td>\n",
       "      <td>POLICE OFFICER</td>\n",
       "      <td>POLICE</td>\n",
       "      <td>90846</td>\n",
       "    </tr>\n",
       "    <tr>\n",
       "      <th>1848</th>\n",
       "      <td>POLICE OFFICER (ASGND AS MARINE OFFICER)</td>\n",
       "      <td>POLICE OFFICER</td>\n",
       "      <td>POLICE</td>\n",
       "      <td>94236</td>\n",
       "    </tr>\n",
       "    <tr>\n",
       "      <th>1933</th>\n",
       "      <td>POLICE OFFICER/EXPLSV DETECT K9 HNDLR</td>\n",
       "      <td>POLICE OFFICER</td>\n",
       "      <td>POLICE</td>\n",
       "      <td>90846</td>\n",
       "    </tr>\n",
       "    <tr>\n",
       "      <th>2108</th>\n",
       "      <td>POLICE OFFICER (ASGND AS MOUNTED PATROL OFFICER)</td>\n",
       "      <td>POLICE OFFICER</td>\n",
       "      <td>POLICE</td>\n",
       "      <td>84858</td>\n",
       "    </tr>\n",
       "    <tr>\n",
       "      <th>2260</th>\n",
       "      <td>POLICE OFFICER (PER ARBITRATION AWARD)</td>\n",
       "      <td>POLICE OFFICER</td>\n",
       "      <td>POLICE</td>\n",
       "      <td>97044</td>\n",
       "    </tr>\n",
       "    <tr>\n",
       "      <th>...</th>\n",
       "      <td>...</td>\n",
       "      <td>...</td>\n",
       "      <td>...</td>\n",
       "      <td>...</td>\n",
       "    </tr>\n",
       "    <tr>\n",
       "      <th>2496</th>\n",
       "      <td>POLICE OFFICER (ASSIGNED AS CANINE HANDLER)</td>\n",
       "      <td>POLICE OFFICER</td>\n",
       "      <td>POLICE</td>\n",
       "      <td>97044</td>\n",
       "    </tr>\n",
       "    <tr>\n",
       "      <th>2739</th>\n",
       "      <td>POLICE OFFICER/EXPLSV DETECT K9 HNDLR</td>\n",
       "      <td>POLICE OFFICER</td>\n",
       "      <td>POLICE</td>\n",
       "      <td>97044</td>\n",
       "    </tr>\n",
       "    <tr>\n",
       "      <th>3124</th>\n",
       "      <td>POLICE OFFICER (ASSIGNED AS TRAFFIC SPECIALIST)</td>\n",
       "      <td>POLICE OFFICER</td>\n",
       "      <td>POLICE</td>\n",
       "      <td>97044</td>\n",
       "    </tr>\n",
       "    <tr>\n",
       "      <th>3165</th>\n",
       "      <td>POLICE OFFICER (ASGND AS MARINE OFFICER)</td>\n",
       "      <td>POLICE OFFICER</td>\n",
       "      <td>POLICE</td>\n",
       "      <td>90846</td>\n",
       "    </tr>\n",
       "    <tr>\n",
       "      <th>3291</th>\n",
       "      <td>POLICE OFFICER (ASGND AS MARINE OFFICER)</td>\n",
       "      <td>POLICE OFFICER</td>\n",
       "      <td>POLICE</td>\n",
       "      <td>90846</td>\n",
       "    </tr>\n",
       "    <tr>\n",
       "      <th>3386</th>\n",
       "      <td>POLICE OFFICER (ASGND AS MOUNTED PATROL OFFICER)</td>\n",
       "      <td>POLICE OFFICER</td>\n",
       "      <td>POLICE</td>\n",
       "      <td>87780</td>\n",
       "    </tr>\n",
       "    <tr>\n",
       "      <th>3518</th>\n",
       "      <td>POLICE OFFICER/EXPLSV DETECT K9 HNDLR</td>\n",
       "      <td>POLICE OFFICER</td>\n",
       "      <td>POLICE</td>\n",
       "      <td>94236</td>\n",
       "    </tr>\n",
       "    <tr>\n",
       "      <th>3599</th>\n",
       "      <td>POLICE OFFICER (ASSIGNED AS TRAFFIC SPECIALIST)</td>\n",
       "      <td>POLICE OFFICER</td>\n",
       "      <td>POLICE</td>\n",
       "      <td>94236</td>\n",
       "    </tr>\n",
       "    <tr>\n",
       "      <th>3677</th>\n",
       "      <td>POLICE OFFICER (ASGND AS MOUNTED PATROL OFFICER)</td>\n",
       "      <td>POLICE OFFICER</td>\n",
       "      <td>POLICE</td>\n",
       "      <td>87780</td>\n",
       "    </tr>\n",
       "    <tr>\n",
       "      <th>3720</th>\n",
       "      <td>POLICE OFFICER(ASGND AS LATENT PRINT EX)</td>\n",
       "      <td>POLICE OFFICER</td>\n",
       "      <td>POLICE</td>\n",
       "      <td>90846</td>\n",
       "    </tr>\n",
       "    <tr>\n",
       "      <th>4424</th>\n",
       "      <td>POLICE OFFICER (ASSIGNED AS SECURITY SPECIALIST)</td>\n",
       "      <td>POLICE OFFICER</td>\n",
       "      <td>POLICE</td>\n",
       "      <td>110370</td>\n",
       "    </tr>\n",
       "    <tr>\n",
       "      <th>5475</th>\n",
       "      <td>POLICE OFFICER(ASGND AS LATENT PRINT EX)</td>\n",
       "      <td>POLICE OFFICER</td>\n",
       "      <td>POLICE</td>\n",
       "      <td>94236</td>\n",
       "    </tr>\n",
       "    <tr>\n",
       "      <th>6021</th>\n",
       "      <td>POLICE OFFICER(ASGND AS LATENT PRINT EX)</td>\n",
       "      <td>POLICE OFFICER</td>\n",
       "      <td>POLICE</td>\n",
       "      <td>97044</td>\n",
       "    </tr>\n",
       "    <tr>\n",
       "      <th>6156</th>\n",
       "      <td>POLICE OFFICER (ASSIGNED AS TRAFFIC SPECIALIST)</td>\n",
       "      <td>POLICE OFFICER</td>\n",
       "      <td>POLICE</td>\n",
       "      <td>97044</td>\n",
       "    </tr>\n",
       "    <tr>\n",
       "      <th>6162</th>\n",
       "      <td>POLICE OFFICER(ASGND AS LATENT PRINT EX)</td>\n",
       "      <td>POLICE OFFICER</td>\n",
       "      <td>POLICE</td>\n",
       "      <td>90846</td>\n",
       "    </tr>\n",
       "    <tr>\n",
       "      <th>6196</th>\n",
       "      <td>POLICE OFFICER (ASSIGNED AS TRAFFIC SPECIALIST)</td>\n",
       "      <td>POLICE OFFICER</td>\n",
       "      <td>POLICE</td>\n",
       "      <td>97044</td>\n",
       "    </tr>\n",
       "    <tr>\n",
       "      <th>6269</th>\n",
       "      <td>POLICE OFFICER(ASGND AS LATENT PRINT EX)</td>\n",
       "      <td>POLICE OFFICER</td>\n",
       "      <td>POLICE</td>\n",
       "      <td>90846</td>\n",
       "    </tr>\n",
       "    <tr>\n",
       "      <th>6659</th>\n",
       "      <td>POLICE OFFICER (ASGND AS MARINE OFFICER)</td>\n",
       "      <td>POLICE OFFICER</td>\n",
       "      <td>POLICE</td>\n",
       "      <td>90846</td>\n",
       "    </tr>\n",
       "    <tr>\n",
       "      <th>6751</th>\n",
       "      <td>POLICE OFFICER (ASSIGNED AS SECURITY SPECIALIST)</td>\n",
       "      <td>POLICE OFFICER</td>\n",
       "      <td>POLICE</td>\n",
       "      <td>106920</td>\n",
       "    </tr>\n",
       "    <tr>\n",
       "      <th>7328</th>\n",
       "      <td>POLICE OFFICER (ASSIGNED AS CANINE HANDLER)</td>\n",
       "      <td>POLICE OFFICER</td>\n",
       "      <td>POLICE</td>\n",
       "      <td>94236</td>\n",
       "    </tr>\n",
       "    <tr>\n",
       "      <th>8592</th>\n",
       "      <td>POLICE OFFICER (ASSIGNED AS SECURITY SPECIALIST)</td>\n",
       "      <td>POLICE OFFICER</td>\n",
       "      <td>POLICE</td>\n",
       "      <td>103590</td>\n",
       "    </tr>\n",
       "    <tr>\n",
       "      <th>9165</th>\n",
       "      <td>POLICE OFFICER (ASSIGNED AS SECURITY SPECIALIST)</td>\n",
       "      <td>POLICE OFFICER</td>\n",
       "      <td>POLICE</td>\n",
       "      <td>103590</td>\n",
       "    </tr>\n",
       "    <tr>\n",
       "      <th>9558</th>\n",
       "      <td>POLICE OFFICER (ASSIGNED AS SECURITY SPECIALIST)</td>\n",
       "      <td>POLICE OFFICER</td>\n",
       "      <td>POLICE</td>\n",
       "      <td>100440</td>\n",
       "    </tr>\n",
       "    <tr>\n",
       "      <th>9659</th>\n",
       "      <td>POLICE OFFICER (ASSIGNED AS CANINE HANDLER)</td>\n",
       "      <td>POLICE OFFICER</td>\n",
       "      <td>POLICE</td>\n",
       "      <td>90846</td>\n",
       "    </tr>\n",
       "    <tr>\n",
       "      <th>10835</th>\n",
       "      <td>POLICE OFFICER (ASSIGNED AS CANINE HANDLER)</td>\n",
       "      <td>POLICE OFFICER</td>\n",
       "      <td>POLICE</td>\n",
       "      <td>90846</td>\n",
       "    </tr>\n",
       "    <tr>\n",
       "      <th>18331</th>\n",
       "      <td>POLICE OFFICER (PER ARBITRATION AWARD)</td>\n",
       "      <td>POLICE OFFICER</td>\n",
       "      <td>POLICE</td>\n",
       "      <td>97044</td>\n",
       "    </tr>\n",
       "    <tr>\n",
       "      <th>21728</th>\n",
       "      <td>POLICE OFFICER (PER ARBITRATION AWARD)</td>\n",
       "      <td>POLICE OFFICER</td>\n",
       "      <td>POLICE</td>\n",
       "      <td>97044</td>\n",
       "    </tr>\n",
       "    <tr>\n",
       "      <th>26345</th>\n",
       "      <td>POLICE OFFICER (PER ARBITRATION AWARD)</td>\n",
       "      <td>POLICE OFFICER</td>\n",
       "      <td>POLICE</td>\n",
       "      <td>97044</td>\n",
       "    </tr>\n",
       "    <tr>\n",
       "      <th>26580</th>\n",
       "      <td>POLICE OFFICER(ASGND AS SUPVG LATENT PRINT EX)</td>\n",
       "      <td>POLICE OFFICER</td>\n",
       "      <td>POLICE</td>\n",
       "      <td>106920</td>\n",
       "    </tr>\n",
       "    <tr>\n",
       "      <th>26991</th>\n",
       "      <td>POLICE OFFICER (PER ARBITRATION AWARD)</td>\n",
       "      <td>POLICE OFFICER</td>\n",
       "      <td>POLICE</td>\n",
       "      <td>97044</td>\n",
       "    </tr>\n",
       "  </tbody>\n",
       "</table>\n",
       "<p>61 rows × 4 columns</p>\n",
       "</div>"
      ],
      "text/plain": [
       "                                                  title    simple_label  \\\n",
       "1                                        POLICE OFFICER  POLICE OFFICER   \n",
       "2                                        POLICE OFFICER  POLICE OFFICER   \n",
       "9                                        POLICE OFFICER  POLICE OFFICER   \n",
       "13                                       POLICE OFFICER  POLICE OFFICER   \n",
       "14                                       POLICE OFFICER  POLICE OFFICER   \n",
       "51     POLICE OFFICER (ASSIGNED AS EVIDENCE TECHNICIAN)  POLICE OFFICER   \n",
       "74               POLICE OFFICER (ASSIGNED AS DETECTIVE)  POLICE OFFICER   \n",
       "102              POLICE OFFICER (ASSIGNED AS DETECTIVE)  POLICE OFFICER   \n",
       "120              POLICE OFFICER (ASSIGNED AS DETECTIVE)  POLICE OFFICER   \n",
       "130              POLICE OFFICER (ASSIGNED AS DETECTIVE)  POLICE OFFICER   \n",
       "186              POLICE OFFICER (ASSIGNED AS DETECTIVE)  POLICE OFFICER   \n",
       "235    POLICE OFFICER (ASSIGNED AS EVIDENCE TECHNICIAN)  POLICE OFFICER   \n",
       "275               POLICE OFFICER/EXPLSV DETECT K9 HNDLR  POLICE OFFICER   \n",
       "326                   POLICE OFFICER / FLD TRNG OFFICER  POLICE OFFICER   \n",
       "465            POLICE OFFICER (ASGND AS MARINE OFFICER)  POLICE OFFICER   \n",
       "488                   POLICE OFFICER / FLD TRNG OFFICER  POLICE OFFICER   \n",
       "523    POLICE OFFICER (ASSIGNED AS EVIDENCE TECHNICIAN)  POLICE OFFICER   \n",
       "563                   POLICE OFFICER / FLD TRNG OFFICER  POLICE OFFICER   \n",
       "669    POLICE OFFICER (ASGND AS MOUNTED PATROL OFFICER)  POLICE OFFICER   \n",
       "729         POLICE OFFICER (ASSIGNED AS CANINE HANDLER)  POLICE OFFICER   \n",
       "880    POLICE OFFICER (ASSIGNED AS EVIDENCE TECHNICIAN)  POLICE OFFICER   \n",
       "886               POLICE OFFICER/EXPLSV DETECT K9 HNDLR  POLICE OFFICER   \n",
       "1125                  POLICE OFFICER / FLD TRNG OFFICER  POLICE OFFICER   \n",
       "1131                  POLICE OFFICER / FLD TRNG OFFICER  POLICE OFFICER   \n",
       "1151   POLICE OFFICER (ASGND AS MOUNTED PATROL OFFICER)  POLICE OFFICER   \n",
       "1314   POLICE OFFICER (ASSIGNED AS EVIDENCE TECHNICIAN)  POLICE OFFICER   \n",
       "1848           POLICE OFFICER (ASGND AS MARINE OFFICER)  POLICE OFFICER   \n",
       "1933              POLICE OFFICER/EXPLSV DETECT K9 HNDLR  POLICE OFFICER   \n",
       "2108   POLICE OFFICER (ASGND AS MOUNTED PATROL OFFICER)  POLICE OFFICER   \n",
       "2260             POLICE OFFICER (PER ARBITRATION AWARD)  POLICE OFFICER   \n",
       "...                                                 ...             ...   \n",
       "2496        POLICE OFFICER (ASSIGNED AS CANINE HANDLER)  POLICE OFFICER   \n",
       "2739              POLICE OFFICER/EXPLSV DETECT K9 HNDLR  POLICE OFFICER   \n",
       "3124    POLICE OFFICER (ASSIGNED AS TRAFFIC SPECIALIST)  POLICE OFFICER   \n",
       "3165           POLICE OFFICER (ASGND AS MARINE OFFICER)  POLICE OFFICER   \n",
       "3291           POLICE OFFICER (ASGND AS MARINE OFFICER)  POLICE OFFICER   \n",
       "3386   POLICE OFFICER (ASGND AS MOUNTED PATROL OFFICER)  POLICE OFFICER   \n",
       "3518              POLICE OFFICER/EXPLSV DETECT K9 HNDLR  POLICE OFFICER   \n",
       "3599    POLICE OFFICER (ASSIGNED AS TRAFFIC SPECIALIST)  POLICE OFFICER   \n",
       "3677   POLICE OFFICER (ASGND AS MOUNTED PATROL OFFICER)  POLICE OFFICER   \n",
       "3720           POLICE OFFICER(ASGND AS LATENT PRINT EX)  POLICE OFFICER   \n",
       "4424   POLICE OFFICER (ASSIGNED AS SECURITY SPECIALIST)  POLICE OFFICER   \n",
       "5475           POLICE OFFICER(ASGND AS LATENT PRINT EX)  POLICE OFFICER   \n",
       "6021           POLICE OFFICER(ASGND AS LATENT PRINT EX)  POLICE OFFICER   \n",
       "6156    POLICE OFFICER (ASSIGNED AS TRAFFIC SPECIALIST)  POLICE OFFICER   \n",
       "6162           POLICE OFFICER(ASGND AS LATENT PRINT EX)  POLICE OFFICER   \n",
       "6196    POLICE OFFICER (ASSIGNED AS TRAFFIC SPECIALIST)  POLICE OFFICER   \n",
       "6269           POLICE OFFICER(ASGND AS LATENT PRINT EX)  POLICE OFFICER   \n",
       "6659           POLICE OFFICER (ASGND AS MARINE OFFICER)  POLICE OFFICER   \n",
       "6751   POLICE OFFICER (ASSIGNED AS SECURITY SPECIALIST)  POLICE OFFICER   \n",
       "7328        POLICE OFFICER (ASSIGNED AS CANINE HANDLER)  POLICE OFFICER   \n",
       "8592   POLICE OFFICER (ASSIGNED AS SECURITY SPECIALIST)  POLICE OFFICER   \n",
       "9165   POLICE OFFICER (ASSIGNED AS SECURITY SPECIALIST)  POLICE OFFICER   \n",
       "9558   POLICE OFFICER (ASSIGNED AS SECURITY SPECIALIST)  POLICE OFFICER   \n",
       "9659        POLICE OFFICER (ASSIGNED AS CANINE HANDLER)  POLICE OFFICER   \n",
       "10835       POLICE OFFICER (ASSIGNED AS CANINE HANDLER)  POLICE OFFICER   \n",
       "18331            POLICE OFFICER (PER ARBITRATION AWARD)  POLICE OFFICER   \n",
       "21728            POLICE OFFICER (PER ARBITRATION AWARD)  POLICE OFFICER   \n",
       "26345            POLICE OFFICER (PER ARBITRATION AWARD)  POLICE OFFICER   \n",
       "26580    POLICE OFFICER(ASGND AS SUPVG LATENT PRINT EX)  POLICE OFFICER   \n",
       "26991            POLICE OFFICER (PER ARBITRATION AWARD)  POLICE OFFICER   \n",
       "\n",
       "      department  salary  \n",
       "1         POLICE   80778  \n",
       "2         POLICE   80778  \n",
       "9         POLICE   86520  \n",
       "13        POLICE   69684  \n",
       "14        POLICE   80778  \n",
       "51        POLICE   90846  \n",
       "74        POLICE   93648  \n",
       "102       POLICE   93648  \n",
       "120       POLICE   97044  \n",
       "130       POLICE   97044  \n",
       "186       POLICE   99888  \n",
       "235       POLICE   94236  \n",
       "275       POLICE   94236  \n",
       "326       POLICE   84858  \n",
       "465       POLICE   97044  \n",
       "488       POLICE   94236  \n",
       "523       POLICE   97044  \n",
       "563       POLICE   84858  \n",
       "669       POLICE   94236  \n",
       "729       POLICE   97044  \n",
       "880       POLICE   94236  \n",
       "886       POLICE   97044  \n",
       "1125      POLICE   97044  \n",
       "1131      POLICE   90846  \n",
       "1151      POLICE   87780  \n",
       "1314      POLICE   90846  \n",
       "1848      POLICE   94236  \n",
       "1933      POLICE   90846  \n",
       "2108      POLICE   84858  \n",
       "2260      POLICE   97044  \n",
       "...          ...     ...  \n",
       "2496      POLICE   97044  \n",
       "2739      POLICE   97044  \n",
       "3124      POLICE   97044  \n",
       "3165      POLICE   90846  \n",
       "3291      POLICE   90846  \n",
       "3386      POLICE   87780  \n",
       "3518      POLICE   94236  \n",
       "3599      POLICE   94236  \n",
       "3677      POLICE   87780  \n",
       "3720      POLICE   90846  \n",
       "4424      POLICE  110370  \n",
       "5475      POLICE   94236  \n",
       "6021      POLICE   97044  \n",
       "6156      POLICE   97044  \n",
       "6162      POLICE   90846  \n",
       "6196      POLICE   97044  \n",
       "6269      POLICE   90846  \n",
       "6659      POLICE   90846  \n",
       "6751      POLICE  106920  \n",
       "7328      POLICE   94236  \n",
       "8592      POLICE  103590  \n",
       "9165      POLICE  103590  \n",
       "9558      POLICE  100440  \n",
       "9659      POLICE   90846  \n",
       "10835     POLICE   90846  \n",
       "18331     POLICE   97044  \n",
       "21728     POLICE   97044  \n",
       "26345     POLICE   97044  \n",
       "26580     POLICE  106920  \n",
       "26991     POLICE   97044  \n",
       "\n",
       "[61 rows x 4 columns]"
      ]
     },
     "execution_count": 168,
     "metadata": {},
     "output_type": "execute_result"
    }
   ],
   "source": [
    "police_dept.head()"
   ]
  },
  {
   "cell_type": "code",
   "execution_count": 169,
   "metadata": {
    "collapsed": false
   },
   "outputs": [
    {
     "data": {
      "text/plain": [
       "simple_label\n",
       "POLICE OFFICER    [[Axes(0.125,0.125;0.775x0.775)]]\n",
       "dtype: object"
      ]
     },
     "execution_count": 169,
     "metadata": {},
     "output_type": "execute_result"
    },
    {
     "data": {
      "image/png": "[encoded data removed]",
      "text/plain": [
       "<matplotlib.figure.Figure at 0x12e3e2350>"
      ]
     },
     "metadata": {},
     "output_type": "display_data"
    }
   ],
   "source": [
    "# Original police_dept grouping didn't work with the \n",
    "police_dept_sm = original[['simple_label','salary']][(original.department == 'POLICE') & (original.simple_label == 'POLICE OFFICER')].groupby(['simple_label'])\n",
    "police_dept_sm.hist(column = 'salary', bins = 60)"
   ]
  },
  {
   "cell_type": "code",
   "execution_count": 171,
   "metadata": {
    "collapsed": false
   },
   "outputs": [
    {
     "data": {
      "text/plain": [
       "simple_label\n",
       "FIREFIGTHER    [[Axes(0.125,0.125;0.775x0.775)]]\n",
       "dtype: object"
      ]
     },
     "execution_count": 171,
     "metadata": {},
     "output_type": "execute_result"
    },
    {
     "data": {
      "image/png": "[encoded data removed]",
      "text/plain": [
       "<matplotlib.figure.Figure at 0x12e82bc10>"
      ]
     },
     "metadata": {},
     "output_type": "display_data"
    }
   ],
   "source": [
    "fire_dept_sm = original[['simple_label','salary']][(original.department == 'FIRE') & (original.simple_label == 'FIREFIGTHER')].groupby(['simple_label'])\n",
    "fire_dept_sm.hist(column = 'salary', bins = 60)"
   ]
  },
  {
   "cell_type": "code",
   "execution_count": 173,
   "metadata": {
    "collapsed": false
   },
   "outputs": [
    {
     "data": {
      "text/plain": [
       "(                           salary\n",
       " simple_label                     \n",
       " FIREFIGTHER  count    2636.000000\n",
       "              mean    86208.955994\n",
       "              std      9209.371207\n",
       "              min     54114.000000\n",
       "              25%     85680.000000\n",
       "              50%     86520.000000\n",
       "              75%     90798.000000\n",
       "              max    108462.000000,                              salary\n",
       " simple_label                       \n",
       " POLICE OFFICER count   10634.000000\n",
       "                mean    83175.384803\n",
       "                std     10370.753772\n",
       "                min     46200.000000\n",
       "                25%     80778.000000\n",
       "                50%     83616.000000\n",
       "                75%     89718.000000\n",
       "                max    110370.000000)"
      ]
     },
     "execution_count": 173,
     "metadata": {},
     "output_type": "execute_result"
    }
   ],
   "source": [
    "fire_dept_sm.describe(), police_dept_sm.describe()"
   ]
  },
  {
   "cell_type": "code",
   "execution_count": 174,
   "metadata": {
    "collapsed": false
   },
   "outputs": [
    {
     "data": {
      "text/plain": [
       "(simple_label\n",
       " FIREFIGTHER    86520\n",
       " Name: salary, dtype: float64, simple_label\n",
       " POLICE OFFICER    83616\n",
       " Name: salary, dtype: float64)"
      ]
     },
     "execution_count": 174,
     "metadata": {},
     "output_type": "execute_result"
    }
   ],
   "source": [
    "fire_dept_sm.salary.median(), police_dept_sm.salary.median()"
   ]
  },
  {
   "cell_type": "code",
   "execution_count": null,
   "metadata": {
    "collapsed": true
   },
   "outputs": [],
   "source": []
  }
 ],
 "metadata": {
  "kernelspec": {
   "display_name": "Python 2",
   "language": "python",
   "name": "python2"
  },
  "language_info": {
   "codemirror_mode": {
    "name": "ipython",
    "version": 2
   },
   "file_extension": ".py",
   "mimetype": "text/x-python",
   "name": "python",
   "nbconvert_exporter": "python",
   "pygments_lexer": "ipython2",
   "version": "2.7.11"
  }
 },
 "nbformat": 4,
 "nbformat_minor": 0
}
